{
  "nbformat": 4,
  "nbformat_minor": 0,
  "metadata": {
    "colab": {
      "provenance": []
    },
    "kernelspec": {
      "name": "python3",
      "display_name": "Python 3"
    },
    "language_info": {
      "name": "python"
    }
  },
  "cells": [
    {
      "cell_type": "markdown",
      "source": [
        "# Files, exceptional handling,logging and memory management"
      ],
      "metadata": {
        "id": "AHjscXwsLt-9"
      }
    },
    {
      "cell_type": "markdown",
      "source": [
        "Q1- What is the difference between interpreted and compiled languages ?\n",
        "\n",
        "ANS- **Compiled Languages**: Convert the entire code into machine code **before execution** (e.g., C, C++). Faster but requires compilation.  \n",
        "\n",
        "**Interpreted Languages**: Execute code **line by line** at runtime (e.g., Python, JavaScript). Slower but more flexible.  \n",
        "\n",
        "**Hybrid**: Uses both compilation and interpretation (e.g., Java, Python with JIT).\n",
        "\n",
        "Q2-  What is exception handling in Python?\n",
        "\n",
        "ANS - Exception handling in Python is a mechanism that allows a program to handle errors gracefully instead of crashing. It uses the try-except block to catch and manage exceptions (errors that occur during execution).\n",
        "\n",
        "\n",
        "Q3- What is the purpose of the finally block in exception handling\n",
        "\n",
        "ANS - The finally block in exception handling is used to define a set of actions that should always be executed, regardless of whether an exception was raised or not. It is typically used for clean-up operations, such as closing files, releasing resources, or closing network connections, ensuring that these actions are taken even if an error occurs.\n",
        "\n",
        "Q4-What is logging in Python\n",
        "\n",
        "ANS- Logging in Python is a way to track and record events, errors, warnings, and other runtime information in a program. It's especially useful for debugging, monitoring, and keeping a record of application behavior during development and after deployment. Python provides a built-in logging module for flexible and configurable logging.\n",
        "\n",
        "Q5-What is the significance of the __del__ method in Python\n",
        "\n",
        "ANS- The __del__ method in Python is a special method known as a destructor. It is called when an object is about to be destroyed or garbage collected. The purpose of __del__ is to define any cleanup behavior for an object, such as releasing external resources (files, network connections, etc.) when the object is no longer in use\n",
        "\n",
        "Q6- What is the difference between import and from ... import in Python\n",
        "\n",
        "ANS- In Python, both import and from ... import are used to bring external modules or specific elements from modules into your code. However, they differ in how they import and make the content accessible within your program.\n",
        "\n",
        "Q7- How can you handle multiple exceptions in Python\n",
        "\n",
        "ANS- In Python, you can handle multiple exceptions in various ways depending on the situation. There are several techniques to catch and handle different types of exceptions that may occur in your code. Below are some of the most common approaches\n",
        "\n",
        "Q8- What is the purpose of the with statement when handling files in Python\n",
        "\n",
        "ANS- The with statement in Python is used for resource management, particularly when dealing with tasks that require setup and cleanup, like working with files. When handling files, the with statement ensures that the file is properly opened and closed, even if an error occurs during the operation\n",
        "\n",
        "Q9- What is the difference between multithreading and multiprocessing\n",
        "\n",
        "ANS-Both multithreading and multiprocessing are techniques for achieving concurrent execution in a program, but they differ in how they handle multiple tasks simultaneously and the underlying mechanisms that allow concurrency. Here’s a breakdown of the key differences\n",
        "\n",
        "Q10-  What are the advantages of using logging in a program\n",
        "\n",
        "ANS- Using logging in a program offers several significant advantages, especially when it comes to debugging, monitoring, and maintaining the application. Unlike using simple print statements, logging provides a more structured and flexible approach to handling output messages\n",
        "\n",
        "Q11- What is memory management in Python\n",
        "\n",
        "ANS- Memory management in Python refers to the process of managing the allocation and deallocation of memory for objects in a Python program. Python, as a high-level language, handles memory management automatically, but it is important to understand how it works to write efficient code and avoid memory leaks or excessive memory consumption.\n",
        "\n",
        "Q12- What are the basic steps involved in exception handling in Python\n",
        "\n",
        "ANS- In Python, exception handling allows you to manage errors that may occur during the execution of a program, ensuring that the program can handle errors gracefully and continue running or provide meaningful feedback to the user.\n",
        "\n",
        "Q13- Why is memory management important in Python\n",
        "\n",
        "ANS- Memory management in Python is crucial because it directly impacts the performance, efficiency, and stability of Python programs. Efficient memory management ensures that resources are utilized optimally, reduces the risk of memory leaks, and maintains the overall responsiveness of applications\n",
        "\n",
        "Q14- What is the role of try and except in exception handling ?\n",
        "\n",
        "ANS - In Python, the try and except blocks are fundamental components of exception handling, allowing you to catch and handle errors that might occur during the execution of a program. This mechanism helps ensure that your program doesn't crash when an error is encountered and that it can continue running or provide meaningful feedback to the user\n",
        "\n",
        "Q15-  How does Python's garbage collection system work\n",
        "\n",
        "ANS- Python’s garbage collection system is designed to manage memory automatically by reclaiming memory used by objects that are no longer needed, thereby preventing memory leaks and improving efficiency. Python primarily uses reference counting for memory management but also incorporates garbage collection to handle cyclic references, which reference counting alone cannot clean up.\n",
        "\n",
        "Q16- What is the purpose of the else block in exception handling\n",
        "\n",
        "ANS- In Python's exception handling mechanism, the else block is an optional part of the try-except structure. Its purpose is to define a block of code that should only run if no exception was raised in the associated try block. This allows you to separate normal, error-free code execution from error-handling logic, making the code more readable and organized.\n",
        "\n",
        "Q17- What are the common logging levels in Python ?\n",
        "\n",
        "ANS- In Python's logging module, logging levels are used to indicate the severity of events or messages being logged. Each level has a specific meaning and helps control the verbosity of log output. The logging system allows you to set the level of logging for your application, meaning only messages that meet or exceed the severity of the specified level will be logged\n",
        "\n",
        "Q18- What is the difference between os.fork() and multiprocessing in Python\n",
        "\n",
        "ANS- In Python, both os.fork() and the multiprocessing module are used for creating multiple processes, but they work differently and have distinct purposes and behaviors\n",
        "\n",
        "Q19- What is the importance of closing a file in Python\n",
        "\n",
        "ANS- In Python, closing a file after you’re done using it is important for several reasons related to resource management, system stability, and performance.\n",
        "\n",
        "Q20- What is the difference between file.read() and file.readline() in Python\n",
        "\n",
        "ANS- In Python, both file.read() and file.readline() are used to read data from a file, but they behave differently in terms of how they retrieve the content\n",
        "\n",
        "Q21- What is the logging module in Python used for\n",
        "\n",
        "ANS- The logging module in Python is used for adding logging capabilities to your program. It provides a flexible framework for generating log messages that can be used to track the execution of the program, troubleshoot errors, and monitor its performance. Logging is essential for debugging, error tracking, and gaining insights into how a program is running, especially in production environments.\n",
        "\n",
        "Q22- What is the os module in Python used for in file handling\n",
        "\n",
        "ANS- The os module in Python provides a way to interact with the operating system and perform a variety of system-related tasks, including file handling. It contains functions for manipulating and interacting with files and directories, such as creating, deleting, renaming, or changing file permissions, among others.\n",
        "\n",
        "Q23- What are the challenges associated with memory management in Python?\n",
        "\n",
        "ANS- Memory management in Python can present several challenges, despite the language's automatic memory management features. While Python's garbage collection system and automatic memory allocation provide significant convenience, developers still need to be aware of potential issues that can affect performance, resource usage, and application stability.\n",
        "\n",
        "Q24-  How do you raise an exception manually in Python?\n",
        "\n",
        "ANS- In Python, you can raise an exception manually using the raise statement. This allows you to trigger an exception when a certain condition is met or if something unexpected happens in your program. Raising exceptions manually is useful when you want to signal that an error or exceptional condition has occurred and need to halt the normal flow of execution.\n",
        "\n",
        "Q25- Why is it important to use multithreading in certain applications ?\n",
        "\n",
        "ANS- Multithreading is important in certain applications because it allows for parallel execution of tasks, improving efficiency and responsiveness in scenarios where multiple tasks need to be performed concurrently."
      ],
      "metadata": {
        "id": "YcYCmg8sL2Ds"
      }
    },
    {
      "cell_type": "code",
      "execution_count": null,
      "metadata": {
        "id": "inYEl8yRLrPA"
      },
      "outputs": [],
      "source": []
    },
    {
      "cell_type": "markdown",
      "source": [
        "# Practical Questions"
      ],
      "metadata": {
        "id": "dcuX0WnDML8D"
      }
    },
    {
      "cell_type": "code",
      "source": [
        "#Q1-  How can you open a file for writing in Python and write a string to it\n",
        "\n",
        "# Open a file in write mode and write a string\n",
        "with open(\"output.txt\", \"w\") as file:\n",
        "    file.write(\"Hello, World!\")\n",
        "\n"
      ],
      "metadata": {
        "id": "XBz6bymsMPOO"
      },
      "execution_count": null,
      "outputs": []
    },
    {
      "cell_type": "code",
      "source": [
        "#Q2- Write a Python program to read the contents of a file and print each line\n",
        "\n",
        "# Open the file in read mode\n",
        "with open(\"example.txt\", \"r\") as file:\n",
        "    # Read and print each line\n",
        "    for line in file:\n",
        "        print(line.strip())  # strip() removes extra newlines\n"
      ],
      "metadata": {
        "colab": {
          "base_uri": "https://localhost:8080/"
        },
        "id": "wq5zKEihMY5_",
        "outputId": "3bdebcb4-fd61-4f66-90df-ce93b7f1e7c4"
      },
      "execution_count": null,
      "outputs": [
        {
          "output_type": "stream",
          "name": "stdout",
          "text": [
            "Hello, this is a test string!\n"
          ]
        }
      ]
    },
    {
      "cell_type": "code",
      "source": [
        "#Q3- How would you handle a case where the file doesn't exist while trying to open it for reading.\n",
        "\n",
        "try:\n",
        "    with open(\"example.txt\", \"r\") as file:\n",
        "        for line in file:\n",
        "            print(line.strip())  # Remove extra newlines\n",
        "except FileNotFoundError:\n",
        "    print(\"Error: The file does not exist!\")\n"
      ],
      "metadata": {
        "colab": {
          "base_uri": "https://localhost:8080/"
        },
        "id": "pOQtzVWZOy9Z",
        "outputId": "bf0e0405-7077-4566-82a2-bab88f020ec0"
      },
      "execution_count": null,
      "outputs": [
        {
          "output_type": "stream",
          "name": "stdout",
          "text": [
            "Hello, this is a test string!\n"
          ]
        }
      ]
    },
    {
      "cell_type": "code",
      "source": [
        "#Q4- Write a Python script that reads from one file and writes its content to another file\n",
        "\n",
        "# Create and write content to source.txt\n",
        "with open(\"source.txt\", \"w\") as file:\n",
        "    file.write(\"Hello, this is the source file.\\n\")\n",
        "    file.write(\"It has multiple lines.\\n\")\n",
        "    file.write(\"This content will be copied.\\n\")\n",
        "\n",
        "print(\"source.txt file created successfully!\")\n",
        "\n",
        "# Open source file for reading and destination file for writing\n",
        "with open(\"source.txt\", \"r\") as source, open(\"destination.txt\", \"w\") as destination:\n",
        "    for line in source:\n",
        "        destination.write(line)\n",
        "\n",
        "print(\"File copied successfully!\")\n",
        "\n",
        "\n",
        "\n",
        "\n"
      ],
      "metadata": {
        "colab": {
          "base_uri": "https://localhost:8080/"
        },
        "id": "6CE-V8BeO_jm",
        "outputId": "e45c0f32-3d9e-4857-e38f-b29c5b3af2f4"
      },
      "execution_count": null,
      "outputs": [
        {
          "output_type": "stream",
          "name": "stdout",
          "text": [
            "source.txt file created successfully!\n",
            "File copied successfully!\n"
          ]
        }
      ]
    },
    {
      "cell_type": "code",
      "source": [
        "#Q5-How would you catch and handle division by zero error in Python.\n",
        "\n",
        "# Create and write content to source.txt\n",
        "with open(\"source.txt\", \"w\") as file:\n",
        "    file.write(\"Hello, this is the source file.\\n\")\n",
        "    file.write(\"It has multiple lines.\\n\")\n",
        "    file.write(\"This content will be copied.\\n\")\n",
        "\n",
        "print(\"source.txt file created successfully!\")\n"
      ],
      "metadata": {
        "colab": {
          "base_uri": "https://localhost:8080/"
        },
        "id": "hsR1L-h9PVb1",
        "outputId": "f1ec930e-417c-46c9-d10d-27db47d4a6f5"
      },
      "execution_count": null,
      "outputs": [
        {
          "output_type": "stream",
          "name": "stdout",
          "text": [
            "source.txt file created successfully!\n"
          ]
        }
      ]
    },
    {
      "cell_type": "code",
      "source": [
        "#Q6-  Write a Python program that logs an error message to a log file when a division by zero exception occurs.\n",
        "\n",
        "import logging\n",
        "\n",
        "# Configure logging to write errors to a file\n",
        "logging.basicConfig(filename=\"error.log\", level=logging.ERROR,\n",
        "                    format=\"%(asctime)s - %(levelname)s - %(message)s\")\n",
        "\n",
        "try:\n",
        "    num1 = int(input(\"Enter numerator: \"))\n",
        "    num2 = int(input(\"Enter denominator: \"))\n",
        "    result = num1 / num2\n",
        "    print(\"Result:\", result)\n",
        "except ZeroDivisionError:\n",
        "    logging.error(\"Attempted to divide by zero.\")\n",
        "    print(\"Error: Division by zero is not allowed! Check error.log for details.\")\n",
        "except ValueError:\n",
        "    logging.error(\"Invalid input! Non-integer value entered.\")\n",
        "    print(\"Error: Please enter valid numbers!\")\n"
      ],
      "metadata": {
        "colab": {
          "base_uri": "https://localhost:8080/"
        },
        "id": "HBFtkabrQ2zZ",
        "outputId": "620d2fb6-d349-4a4a-82de-372a8f2ced53"
      },
      "execution_count": null,
      "outputs": [
        {
          "output_type": "stream",
          "name": "stdout",
          "text": [
            "Enter numerator: 5\n",
            "Enter denominator: 10\n",
            "Result: 0.5\n"
          ]
        }
      ]
    },
    {
      "cell_type": "code",
      "source": [
        "#Q7- How do you log information at different levels (INFO, ERROR, WARNING) in Python using the logging module\n",
        "\n",
        "import logging\n",
        "\n",
        "# Configure logging to write to a file with level and format\n",
        "logging.basicConfig(filename=\"app.log\", level=logging.DEBUG,\n",
        "                    format=\"%(asctime)s - %(levelname)s - %(message)s\")\n",
        "\n",
        "# Log messages at different levels\n",
        "logging.debug(\"This is a DEBUG message (used for debugging).\")\n",
        "logging.info(\"This is an INFO message (general information).\")\n",
        "logging.warning(\"This is a WARNING message (something unexpected but not fatal).\")\n",
        "logging.error(\"This is an ERROR message (serious issue, but program continues).\")\n",
        "logging.critical(\"This is a CRITICAL message (major failure, may crash).\")\n",
        "\n",
        "print(\"Logging completed. Check app.log for details.\")\n"
      ],
      "metadata": {
        "colab": {
          "base_uri": "https://localhost:8080/"
        },
        "id": "ERS8y6XkRGIA",
        "outputId": "e5403b1c-7046-4e30-995e-74409731b7e5"
      },
      "execution_count": null,
      "outputs": [
        {
          "output_type": "stream",
          "name": "stderr",
          "text": [
            "WARNING:root:This is a WARNING message (something unexpected but not fatal).\n",
            "ERROR:root:This is an ERROR message (serious issue, but program continues).\n",
            "CRITICAL:root:This is a CRITICAL message (major failure, may crash).\n"
          ]
        },
        {
          "output_type": "stream",
          "name": "stdout",
          "text": [
            "Logging completed. Check app.log for details.\n"
          ]
        }
      ]
    },
    {
      "cell_type": "code",
      "source": [
        "#Q8- Write a program to handle a file opening error using exception handling\n",
        "\n",
        "try:\n",
        "    # Attempt to open a non-existent file\n",
        "    with open(\"non_existent_file.txt\", \"r\") as file:\n",
        "        content = file.read()\n",
        "        print(content)\n",
        "except FileNotFoundError:\n",
        "    print(\"Error: The file does not exist!\")\n",
        "except PermissionError:\n",
        "    print(\"Error: You do not have permission to open this file!\")\n",
        "except Exception as e:\n",
        "    print(f\"An unexpected error occurred: {e}\")\n"
      ],
      "metadata": {
        "colab": {
          "base_uri": "https://localhost:8080/"
        },
        "id": "JSRpLW0uRh__",
        "outputId": "ea41f1f6-f27b-4344-9caf-fcf2920f70b0"
      },
      "execution_count": null,
      "outputs": [
        {
          "output_type": "stream",
          "name": "stdout",
          "text": [
            "Error: The file does not exist!\n"
          ]
        }
      ]
    },
    {
      "cell_type": "code",
      "source": [
        "#Q9- How can you read a file line by line and store its content in a list in Python\n",
        "\n",
        "with open(\"example.txt\", \"r\") as file:\n",
        "    lines = file.readlines()  # Reads all lines into a list\n",
        "\n",
        "print(lines)  # Output the list\n"
      ],
      "metadata": {
        "colab": {
          "base_uri": "https://localhost:8080/"
        },
        "id": "vEDcFf42RuZO",
        "outputId": "11b86282-cafe-41dd-9274-6806654d9d98"
      },
      "execution_count": null,
      "outputs": [
        {
          "output_type": "stream",
          "name": "stdout",
          "text": [
            "['Hello, this is a test string!']\n"
          ]
        }
      ]
    },
    {
      "cell_type": "code",
      "source": [
        "#Q10- How can you append data to an existing file in Python\n",
        "\n",
        "with open(\"example.txt\", \"a\") as file:\n",
        "    file.write(\"\\nThis is an appended line.\")\n"
      ],
      "metadata": {
        "id": "W7O8Ox_eSAJG"
      },
      "execution_count": null,
      "outputs": []
    },
    {
      "cell_type": "code",
      "source": [
        "#Q11- Write a Python program that uses a try-except block to handle an error when attempting to access a dictionary key that doesn't exist\n",
        "\n",
        "# Sample dictionary\n",
        "student_scores = {\"Manjunath\": 85, \"Bob\": 90, \"Charlie\": 78}\n",
        "\n",
        "try:\n",
        "    # Attempt to access a non-existent key\n",
        "    name = input(\"Enter student name: \")\n",
        "    score = student_scores[name]  # This may raise a KeyError\n",
        "    print(f\"{name}'s score is: {score}\")\n",
        "except KeyError:\n",
        "    print(f\"Error: '{name}' not found in the dictionary!\")\n"
      ],
      "metadata": {
        "colab": {
          "base_uri": "https://localhost:8080/"
        },
        "id": "4EM-7xJ6TBXy",
        "outputId": "95f9bd9e-9698-4638-aad7-6db0fea8cd37"
      },
      "execution_count": null,
      "outputs": [
        {
          "output_type": "stream",
          "name": "stdout",
          "text": [
            "Enter student name: Manjunath\n",
            "Manjunath's score is: 85\n"
          ]
        }
      ]
    },
    {
      "cell_type": "code",
      "source": [
        "#Q12- Write a program that demonstrates using multiple except blocks to handle different types of exceptions\n",
        "\n",
        "try:\n",
        "    # Get input from user\n",
        "    num1 = int(input(\"Enter numerator: \"))\n",
        "    num2 = int(input(\"Enter denominator: \"))\n",
        "\n",
        "    # Perform division\n",
        "    result = num1 / num2\n",
        "    print(\"Result:\", result)\n",
        "\n",
        "    # Access a dictionary key (example error)\n",
        "    data = {\"name\": \"Alice\"}\n",
        "    print(\"Age:\", data[\"age\"])  # This will cause a KeyError\n",
        "\n",
        "except ZeroDivisionError:\n",
        "    print(\"Error: Cannot divide by zero!\")\n",
        "\n",
        "except ValueError:\n",
        "    print(\"Error: Invalid input! Please enter numeric values.\")\n",
        "\n",
        "except KeyError:\n",
        "    print(\"Error: The requested key does not exist in the dictionary.\")\n",
        "\n",
        "except Exception as e:\n",
        "    print(f\"An unexpected error occurred: {e}\")\n"
      ],
      "metadata": {
        "colab": {
          "base_uri": "https://localhost:8080/"
        },
        "id": "MFj0-tXDTtwp",
        "outputId": "8858b538-2cad-45d3-f4e1-fdfa1ec792ec"
      },
      "execution_count": null,
      "outputs": [
        {
          "output_type": "stream",
          "name": "stdout",
          "text": [
            "Enter numerator: 5\n",
            "Enter denominator: 10\n",
            "Result: 0.5\n",
            "Error: The requested key does not exist in the dictionary.\n"
          ]
        }
      ]
    },
    {
      "cell_type": "code",
      "source": [
        "#Q13-  How would you check if a file exists before attempting to read it in Python\n",
        "\n",
        "import os\n",
        "\n",
        "file_path = \"example.txt\"\n",
        "\n",
        "if os.path.exists(file_path):\n",
        "    with open(file_path, \"r\") as file:\n",
        "        content = file.read()\n",
        "        print(content)\n",
        "else:\n",
        "    print(\"File does not exist.\")\n"
      ],
      "metadata": {
        "colab": {
          "base_uri": "https://localhost:8080/"
        },
        "id": "N8u2Xny7UOWI",
        "outputId": "b2ebcaf8-d8d0-4bdd-af85-5c463e685e68"
      },
      "execution_count": null,
      "outputs": [
        {
          "output_type": "stream",
          "name": "stdout",
          "text": [
            "Hello, this is a test string!\n",
            "This is an appended line.\n"
          ]
        }
      ]
    },
    {
      "cell_type": "code",
      "source": [
        "#Q14- Write a program that uses the logging module to log both informational and error messages\n",
        "\n",
        "import logging\n",
        "\n",
        "# Configure logging\n",
        "logging.basicConfig(\n",
        "    level=logging.DEBUG,  # Log levels: DEBUG, INFO, WARNING, ERROR, CRITICAL\n",
        "    format=\"%(asctime)s - %(levelname)s - %(message)s\",\n",
        "    handlers=[\n",
        "        logging.FileHandler(\"app.log\"),  # Log to a file\n",
        "        logging.StreamHandler()  # Log to console\n",
        "    ]\n",
        ")\n",
        "\n",
        "def divide(a, b):\n",
        "    \"\"\"Function to divide two numbers with error handling.\"\"\"\n",
        "    logging.info(f\"Dividing {a} by {b}\")\n",
        "    try:\n",
        "        result = a / b\n",
        "        logging.info(f\"Result: {result}\")\n",
        "        return result\n",
        "    except ZeroDivisionError as e:\n",
        "        logging.error(\"Attempted to divide by zero\", exc_info=True)\n",
        "    except Exception as e:\n",
        "        logging.error(f\"Unexpected error: {e}\", exc_info=True)\n",
        "\n",
        "# Example usage\n",
        "logging.info(\"Program started\")\n",
        "divide(10, 2)\n",
        "divide(5, 0)  # This will cause an error\n",
        "logging.info(\"Program finished\")\n"
      ],
      "metadata": {
        "colab": {
          "base_uri": "https://localhost:8080/"
        },
        "id": "luS2_4ZZUrCl",
        "outputId": "5ac4f0d1-f283-4aae-b706-c0bd06eef461"
      },
      "execution_count": null,
      "outputs": [
        {
          "output_type": "stream",
          "name": "stderr",
          "text": [
            "ERROR:root:Attempted to divide by zero\n",
            "Traceback (most recent call last):\n",
            "  File \"<ipython-input-21-0aac244d1d74>\", line 19, in divide\n",
            "    result = a / b\n",
            "             ~~^~~\n",
            "ZeroDivisionError: division by zero\n"
          ]
        }
      ]
    },
    {
      "cell_type": "code",
      "source": [
        "#Q15- Write a Python program that prints the content of a file and handles the case when the file is empty\n",
        "\n",
        "def read_file(file_path):\n",
        "    \"\"\"Reads and prints the content of a file, handling empty files.\"\"\"\n",
        "    try:\n",
        "        with open(file_path, \"r\") as file:\n",
        "            content = file.read().strip()  # Strip to remove unwanted whitespace\n",
        "            if content:\n",
        "                print(\"File Content:\\n\" + content)\n",
        "            else:\n",
        "                print(\"The file is empty.\")\n",
        "    except FileNotFoundError:\n",
        "        print(\"Error: The file does not exist.\")\n",
        "    except Exception as e:\n",
        "        print(f\"An unexpected error occurred: {e}\")\n",
        "\n",
        "# Example usage\n",
        "file_path = \"example.txt\"  # Change this to your file path\n",
        "read_file(file_path)\n"
      ],
      "metadata": {
        "colab": {
          "base_uri": "https://localhost:8080/"
        },
        "id": "Fh7blJFgU6FF",
        "outputId": "9ad35a6a-bdd0-4d76-8f63-d1081f7d23f0"
      },
      "execution_count": null,
      "outputs": [
        {
          "output_type": "stream",
          "name": "stdout",
          "text": [
            "File Content:\n",
            "Hello, this is a test string!\n",
            "This is an appended line.\n"
          ]
        }
      ]
    },
    {
      "cell_type": "code",
      "source": [
        "#Q16- Demonstrate how to use memory profiling to check the memory usage of a small program\n",
        "\n",
        "!pip install memory_profiler # install the memory_profiler package\n",
        "from memory_profiler import profile\n",
        "\n",
        "@profile\n",
        "def create_large_list():\n",
        "    \"\"\"Function that creates a large list to demonstrate memory profiling.\"\"\"\n",
        "    large_list = [i for i in range(10**6)]  # Creates a list with 1 million numbers\n",
        "    return large_list\n",
        "\n",
        "if __name__ == \"__main__\":\n",
        "    create_large_list()\n",
        "print(\"Python is working!\")\n",
        "\n"
      ],
      "metadata": {
        "colab": {
          "base_uri": "https://localhost:8080/"
        },
        "id": "4jy_kW8vVu3z",
        "outputId": "f70d17b1-7fda-40b5-9d66-d13e5bc7eae8"
      },
      "execution_count": null,
      "outputs": [
        {
          "output_type": "stream",
          "name": "stdout",
          "text": [
            "Collecting memory_profiler\n",
            "  Downloading memory_profiler-0.61.0-py3-none-any.whl.metadata (20 kB)\n",
            "Requirement already satisfied: psutil in /usr/local/lib/python3.11/dist-packages (from memory_profiler) (5.9.5)\n",
            "Downloading memory_profiler-0.61.0-py3-none-any.whl (31 kB)\n",
            "Installing collected packages: memory_profiler\n",
            "Successfully installed memory_profiler-0.61.0\n"
          ]
        },
        {
          "output_type": "stream",
          "name": "stderr",
          "text": [
            "\n",
            "PYDEV DEBUGGER WARNING:\n",
            "sys.settrace() should not be used when the debugger is being used.\n",
            "This may cause the debugger to stop working correctly.\n",
            "If this is needed, please check: \n",
            "http://pydev.blogspot.com/2007/06/why-cant-pydev-debugger-work-with.html\n",
            "to see how to restore the debug tracing back correctly.\n",
            "Call Location:\n",
            "  File \"/usr/local/lib/python3.11/dist-packages/memory_profiler.py\", line 847, in enable\n",
            "    sys.settrace(self.trace_memory_usage)\n",
            "\n"
          ]
        },
        {
          "output_type": "stream",
          "name": "stdout",
          "text": [
            "ERROR: Could not find file <ipython-input-29-866dec79fc83>\n",
            "NOTE: %mprun can only be used on functions defined in physical files, and not in the IPython environment.\n"
          ]
        },
        {
          "output_type": "stream",
          "name": "stderr",
          "text": [
            "\n",
            "PYDEV DEBUGGER WARNING:\n",
            "sys.settrace() should not be used when the debugger is being used.\n",
            "This may cause the debugger to stop working correctly.\n",
            "If this is needed, please check: \n",
            "http://pydev.blogspot.com/2007/06/why-cant-pydev-debugger-work-with.html\n",
            "to see how to restore the debug tracing back correctly.\n",
            "Call Location:\n",
            "  File \"/usr/local/lib/python3.11/dist-packages/memory_profiler.py\", line 850, in disable\n",
            "    sys.settrace(self._original_trace_function)\n",
            "\n"
          ]
        },
        {
          "output_type": "stream",
          "name": "stdout",
          "text": [
            "Python is working!\n"
          ]
        }
      ]
    },
    {
      "cell_type": "code",
      "source": [
        "#Q17- Write a Python program to create and write a list of numbers to a file, one number per line\n",
        "\n",
        "def write_numbers_to_file(filename, numbers):\n",
        "    \"\"\"Writes a list of numbers to a file, one number per line.\"\"\"\n",
        "    try:\n",
        "        with open(filename, \"w\") as file:\n",
        "            for number in numbers:\n",
        "                file.write(f\"{number}\\n\")  # Write each number followed by a newline\n",
        "        print(f\"Numbers successfully written to {filename}\")\n",
        "    except Exception as e:\n",
        "        print(f\"An error occurred: {e}\")\n",
        "\n",
        "# Example usage\n",
        "numbers_list = list(range(1, 21))  # Creates a list of numbers from 1 to 20\n",
        "write_numbers_to_file(\"numbers.txt\", numbers_list)\n"
      ],
      "metadata": {
        "colab": {
          "base_uri": "https://localhost:8080/"
        },
        "id": "TkUI3UCSWJiB",
        "outputId": "d163d4f3-acb7-4a3c-d137-cc21fb3bd0db"
      },
      "execution_count": null,
      "outputs": [
        {
          "output_type": "stream",
          "name": "stdout",
          "text": [
            "Numbers successfully written to numbers.txt\n"
          ]
        }
      ]
    },
    {
      "cell_type": "code",
      "source": [
        "#Q18- How would you implement a basic logging setup that logs to a file with rotation after 1MB\n",
        "\n",
        "import logging\n",
        "from logging.handlers import RotatingFileHandler\n",
        "\n",
        "# Define log file name\n",
        "LOG_FILENAME = \"app.log\"\n",
        "\n",
        "# Configure logging\n",
        "logger = logging.getLogger(\"MyLogger\")  # Create a logger\n",
        "logger.setLevel(logging.DEBUG)  # Set logging level (DEBUG, INFO, WARNING, ERROR, CRITICAL)\n",
        "\n",
        "# Create a rotating file handler (max size 1MB, keep last 3 backups)\n",
        "handler = RotatingFileHandler(LOG_FILENAME, maxBytes=1_000_000, backupCount=3)\n",
        "handler.setLevel(logging.DEBUG)  # Set handler log level\n",
        "\n",
        "# Define log format\n",
        "formatter = logging.Formatter('%(asctime)s - %(levelname)s - %(message)s')\n",
        "handler.setFormatter(formatter)\n",
        "\n",
        "# Add handler to logger\n",
        "logger.addHandler(handler)\n",
        "\n",
        "# Example log messages\n",
        "for i in range(5):\n",
        "    logger.debug(f\"Debug message {i}\")\n",
        "    logger.info(f\"Info message {i}\")\n",
        "    logger.warning(f\"Warning message {i}\")\n",
        "    logger.error(f\"Error message {i}\")\n",
        "    logger.critical(f\"Critical error {i}\")\n",
        "\n",
        "print(\"Logging complete. Check the log files.\")\n"
      ],
      "metadata": {
        "colab": {
          "base_uri": "https://localhost:8080/"
        },
        "id": "C1yXb0bhaN3G",
        "outputId": "2afbfa8b-7d52-45ef-c7fe-535c6e20918d"
      },
      "execution_count": null,
      "outputs": [
        {
          "output_type": "stream",
          "name": "stderr",
          "text": [
            "DEBUG:MyLogger:Debug message 0\n",
            "INFO:MyLogger:Info message 0\n",
            "WARNING:MyLogger:Warning message 0\n",
            "ERROR:MyLogger:Error message 0\n",
            "CRITICAL:MyLogger:Critical error 0\n",
            "DEBUG:MyLogger:Debug message 1\n",
            "INFO:MyLogger:Info message 1\n",
            "WARNING:MyLogger:Warning message 1\n",
            "ERROR:MyLogger:Error message 1\n",
            "CRITICAL:MyLogger:Critical error 1\n",
            "DEBUG:MyLogger:Debug message 2\n",
            "INFO:MyLogger:Info message 2\n",
            "WARNING:MyLogger:Warning message 2\n",
            "ERROR:MyLogger:Error message 2\n",
            "CRITICAL:MyLogger:Critical error 2\n",
            "DEBUG:MyLogger:Debug message 3\n",
            "INFO:MyLogger:Info message 3\n",
            "WARNING:MyLogger:Warning message 3\n",
            "ERROR:MyLogger:Error message 3\n",
            "CRITICAL:MyLogger:Critical error 3\n",
            "DEBUG:MyLogger:Debug message 4\n",
            "INFO:MyLogger:Info message 4\n",
            "WARNING:MyLogger:Warning message 4\n",
            "ERROR:MyLogger:Error message 4\n",
            "CRITICAL:MyLogger:Critical error 4\n"
          ]
        },
        {
          "output_type": "stream",
          "name": "stdout",
          "text": [
            "Logging complete. Check the log files.\n"
          ]
        }
      ]
    },
    {
      "cell_type": "code",
      "source": [
        "#Q19- Write a program that handles both IndexError and KeyError using a try-except block\n",
        "\n",
        "def handle_exceptions():\n",
        "    my_list = [10, 20, 30]\n",
        "    my_dict = {\"a\": 1, \"b\": 2, \"c\": 3}\n",
        "\n",
        "    try:\n",
        "        # Attempt to access an out-of-range index (IndexError)\n",
        "        print(\"List value:\", my_list[5])\n",
        "\n",
        "        # Attempt to access a non-existing key in dictionary (KeyError)\n",
        "        print(\"Dictionary value:\", my_dict[\"z\"])\n",
        "\n",
        "    except IndexError:\n",
        "        print(\"Error: Index out of range in the list!\")\n",
        "\n",
        "    except KeyError:\n",
        "        print(\"Error: Key not found in the dictionary!\")\n",
        "\n",
        "# Run the function\n",
        "handle_exceptions()\n"
      ],
      "metadata": {
        "colab": {
          "base_uri": "https://localhost:8080/"
        },
        "id": "DHn0hJjMbAMk",
        "outputId": "bcd88bb3-a337-4012-93ac-fb3d798d1218"
      },
      "execution_count": null,
      "outputs": [
        {
          "output_type": "stream",
          "name": "stdout",
          "text": [
            "Error: Index out of range in the list!\n"
          ]
        }
      ]
    },
    {
      "cell_type": "code",
      "source": [
        "#Q20- How would you open a file and read its contents using a context manager in Python\n",
        "\n",
        "def read_file(filename):\n",
        "    \"\"\"Reads the contents of a file and prints it.\"\"\"\n",
        "    try:\n",
        "        with open(filename, \"r\") as file:  # Open file in read mode\n",
        "            contents = file.read()  # Read entire file\n",
        "            print(contents) if contents else print(\"File is empty!\")\n",
        "    except FileNotFoundError:\n",
        "        print(f\"Error: The file '{filename}' was not found.\")\n",
        "    except Exception as e:\n",
        "        print(f\"An error occurred: {e}\")\n",
        "\n",
        "# Example usage\n",
        "read_file(\"example.txt\")  # Replace with your filename\n"
      ],
      "metadata": {
        "colab": {
          "base_uri": "https://localhost:8080/"
        },
        "id": "nv2lD0WWbp-6",
        "outputId": "b2e688ef-42a1-4b71-9d89-f26f633ac998"
      },
      "execution_count": null,
      "outputs": [
        {
          "output_type": "stream",
          "name": "stdout",
          "text": [
            "Hello, this is a test string!\n",
            "This is an appended line.\n"
          ]
        }
      ]
    },
    {
      "cell_type": "code",
      "source": [
        "#Q21- Write a Python program that reads a file and prints the number of occurrences of a specific word\n",
        "\n",
        "def count_word_occurrences(filename, word):\n",
        "    \"\"\"Counts the occurrences of a specific word in a file.\"\"\"\n",
        "    try:\n",
        "        with open(filename, \"r\", encoding=\"utf-8\") as file:\n",
        "            content = file.read().lower()  # Read file and convert to lowercase\n",
        "            word_count = content.split().count(word.lower())  # Count occurrences\n",
        "            print(f\"The word '{word}' appears {word_count} times in '{filename}'.\")\n",
        "    except FileNotFoundError:\n",
        "        print(f\"Error: The file '{filename}' was not found.\")\n",
        "    except Exception as e:\n",
        "        print(f\"An error occurred: {e}\")\n",
        "\n",
        "# Example usage\n",
        "filename = \"example.txt\"  # Replace with your file name\n",
        "word_to_count = \"Python\"  # Replace with the word you want to count\n",
        "\n",
        "count_word_occurrences(filename, word_to_count)\n"
      ],
      "metadata": {
        "colab": {
          "base_uri": "https://localhost:8080/"
        },
        "id": "o-lN9u8_b6kZ",
        "outputId": "46487b78-f9cb-4dd3-9873-8301b9c22823"
      },
      "execution_count": null,
      "outputs": [
        {
          "output_type": "stream",
          "name": "stdout",
          "text": [
            "The word 'Python' appears 0 times in 'example.txt'.\n"
          ]
        }
      ]
    },
    {
      "cell_type": "code",
      "source": [
        "#Q22- How can you check if a file is empty before attempting to read its contents\n",
        "\n",
        "import os\n",
        "\n",
        "def is_file_empty(filename):\n",
        "    \"\"\"Checks if a file is empty by checking its size.\"\"\"\n",
        "    return os.path.getsize(filename) == 0  # Returns True if empty\n",
        "\n",
        "# Example usage\n",
        "filename = \"example.txt\"\n",
        "if is_file_empty(filename):\n",
        "    print(f\"The file '{filename}' is empty.\")\n",
        "else:\n",
        "    print(f\"The file '{filename}' has content.\")\n"
      ],
      "metadata": {
        "colab": {
          "base_uri": "https://localhost:8080/"
        },
        "id": "7SHnA7NscGAw",
        "outputId": "9c71a345-8764-482f-ee14-6ef4121ec72d"
      },
      "execution_count": null,
      "outputs": [
        {
          "output_type": "stream",
          "name": "stdout",
          "text": [
            "The file 'example.txt' has content.\n"
          ]
        }
      ]
    },
    {
      "cell_type": "code",
      "source": [
        "#Q23- Write a Python program that writes to a log file when an error occurs during file handling\n",
        "\n",
        "import logging\n",
        "\n",
        "# Configure logging\n",
        "LOG_FILENAME = \"file_errors.log\"\n",
        "logging.basicConfig(\n",
        "    filename=LOG_FILENAME,\n",
        "    level=logging.ERROR,\n",
        "    format=\"%(asctime)s - %(levelname)s - %(message)s\"\n",
        ")\n",
        "\n",
        "def read_file(filename):\n",
        "    \"\"\"Attempts to read a file and logs errors if they occur.\"\"\"\n",
        "    try:\n",
        "        with open(filename, \"r\") as file:\n",
        "            content = file.read()\n",
        "            print(content if content else \"File is empty!\")\n",
        "    except FileNotFoundError:\n",
        "        error_msg = f\"Error: The file '{filename}' was not found.\"\n",
        "        print(error_msg)\n",
        "        logging.error(error_msg)  # Log error\n",
        "    except PermissionError:\n",
        "        error_msg = f\"Error: Permission denied for '{filename}'.\"\n",
        "        print(error_msg)\n",
        "        logging.error(error_msg)  # Log error\n",
        "    except Exception as e:\n",
        "        error_msg = f\"Unexpected error with '{filename}': {e}\"\n",
        "        print(error_msg)\n",
        "        logging.error(error_msg)  # Log error\n",
        "\n",
        "# Example usage\n",
        "read_file(\"nonexistent.txt\")  # Replace with an actual file to test\n"
      ],
      "metadata": {
        "colab": {
          "base_uri": "https://localhost:8080/"
        },
        "id": "xUUnybGecQ7g",
        "outputId": "166c146c-0851-48c8-99a2-530e0337db91"
      },
      "execution_count": null,
      "outputs": [
        {
          "output_type": "stream",
          "name": "stderr",
          "text": [
            "ERROR:root:Error: The file 'nonexistent.txt' was not found.\n"
          ]
        },
        {
          "output_type": "stream",
          "name": "stdout",
          "text": [
            "Error: The file 'nonexistent.txt' was not found.\n"
          ]
        }
      ]
    },
    {
      "cell_type": "code",
      "source": [],
      "metadata": {
        "id": "L3z7x6Rncfz3"
      },
      "execution_count": null,
      "outputs": []
    }
  ]
}